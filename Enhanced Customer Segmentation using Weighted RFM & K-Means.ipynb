{
 "cells": [
  {
   "cell_type": "markdown",
   "id": "50cbc8b3-a60b-46cf-803f-96a25fcead58",
   "metadata": {},
   "source": [
    "# Import necessary libraries"
   ]
  },
  {
   "cell_type": "code",
   "execution_count": null,
   "id": "82fa679e-7a7e-485d-a97c-52d38a0cd103",
   "metadata": {},
   "outputs": [],
   "source": [
    "\n",
    "import pandas as pd\n",
    "import numpy as np\n",
    "from datetime import datetime, timedelta\n",
    "import matplotlib.pyplot as plt\n",
    "from sklearn.preprocessing import StandardScaler\n",
    "from sklearn.cluster import KMeans\n",
    "import seaborn as sns\n",
    "\n"
   ]
  },
  {
   "cell_type": "markdown",
   "id": "7ab44f88-556c-414c-abf6-b17406aafc5e",
   "metadata": {},
   "source": [
    "# Step 1: Create Dummy Dataset\n",
    "# Generating random data for 100 customers with random transaction dates, amounts, and counts"
   ]
  },
  {
   "cell_type": "code",
   "execution_count": null,
   "id": "be81e39a-3ab2-4248-9728-20ac8f857202",
   "metadata": {},
   "outputs": [],
   "source": [
    "np.random.seed(42)\n",
    "num_customers = 100"
   ]
  },
  {
   "cell_type": "markdown",
   "id": "3c2cd421-7201-4bb4-82fa-334b73c71c35",
   "metadata": {},
   "source": [
    "# Step 2: Calculate RFM metrics"
   ]
  },
  {
   "cell_type": "code",
   "execution_count": null,
   "id": "63c9f9dd-5e4b-4d83-8e4a-39c4196a0aaa",
   "metadata": {},
   "outputs": [],
   "source": [
    "# Reference date set to the end of the year for calculating recency\n",
    "reference_date = datetime(2024, 12, 31)\n",
    "\n",
    "# Group by CustomerID to calculate Recency, Frequency, and Monetary metrics\n",
    "rfm = data.groupby('CustomerID').agg({\n",
    "    'TransactionDate': lambda x: (reference_date - x.max()).days,  # Recency: Days since last transaction\n",
    "    'TransactionID': 'sum',                                       # Frequency: Total transactions\n",
    "    'Amount': 'sum'                                               # Monetary: Total spending\n",
    "}).reset_index()\n",
    "\n",
    "# Rename columns for clarity\n",
    "rfm.columns = ['CustomerID', 'Recency', 'Frequency', 'Monetary']\n"
   ]
  },
  {
   "cell_type": "markdown",
   "id": "e771c661-5740-40cb-adb3-7e0b852955f3",
   "metadata": {},
   "source": [
    "# Step 3: Normalize the RFM metrics"
   ]
  },
  {
   "cell_type": "code",
   "execution_count": null,
   "id": "b22ad262-8aec-4f5f-87ec-a30c8b91803f",
   "metadata": {},
   "outputs": [],
   "source": [
    "# Standardizing RFM metrics using StandardScaler to bring them to the same scale\n",
    "scaler = StandardScaler()\n",
    "rfm_normalized = scaler.fit_transform(rfm[['Recency', 'Frequency', 'Monetary']])"
   ]
  },
  {
   "cell_type": "markdown",
   "id": "085923d3-5d66-4afd-b24d-e219f80b0ab1",
   "metadata": {},
   "source": [
    "# Step 4: Apply the Elbow Method to Find Optimal Number of Clusters"
   ]
  },
  {
   "cell_type": "code",
   "execution_count": null,
   "id": "c234f90b-24da-41f8-a38d-dc9143be4405",
   "metadata": {},
   "outputs": [],
   "source": [
    "# Using the Elbow Method to determine the optimal number of clusters by plotting inertia values\n",
    "inertia = []\n",
    "for k in range(1, 11):\n",
    "    kmeans = KMeans(n_clusters=k, random_state=42)\n",
    "    kmeans.fit(rfm_normalized)\n",
    "    inertia.append(kmeans.inertia_)\n",
    "\n",
    "# Plot the Elbow Curve to visualize the optimal number of clusters\n",
    "plt.plot(range(1, 11), inertia, marker='o')\n",
    "plt.xlabel('Number of Clusters')\n",
    "plt.ylabel('Inertia')\n",
    "plt.title('Elbow Method for Optimal K')\n",
    "plt.show()"
   ]
  },
  {
   "cell_type": "markdown",
   "id": "95107a35-c3cf-46cd-847f-f9fa5e7fd9d0",
   "metadata": {},
   "source": [
    "# Step 5: Apply K-Means Clustering with optimal clusters (k=4)"
   ]
  },
  {
   "cell_type": "code",
   "execution_count": null,
   "id": "d36e108f-8f66-463d-be04-e2c5b21df90a",
   "metadata": {},
   "outputs": [],
   "source": [
    "# Based on the Elbow Method, applying K-Means clustering with 4 clusters\n",
    "optimal_clusters = 4\n",
    "kmeans = KMeans(n_clusters=optimal_clusters, random_state=42)\n",
    "rfm['Cluster'] = kmeans.fit_predict(rfm_normalized)"
   ]
  },
  {
   "cell_type": "markdown",
   "id": "a9071a9e-de46-4bd1-ad82-381a9d2b2546",
   "metadata": {},
   "source": [
    "# Step 6: Analyze the Clusters"
   ]
  },
  {
   "cell_type": "code",
   "execution_count": null,
   "id": "852e600b-d9f2-408e-9a6d-29456a37ba40",
   "metadata": {},
   "outputs": [],
   "source": [
    "# Calculating mean Recency, Frequency, and Monetary values for each cluster\n",
    "cluster_summary = rfm.groupby('Cluster').agg({\n",
    "    'Recency': 'mean',\n",
    "    'Frequency': 'mean',\n",
    "    'Monetary': 'mean',\n",
    "    'CustomerID': 'count'  # Number of customers in each cluster\n",
    "}).rename(columns={'CustomerID': 'Customer Count'}).reset_index()\n",
    "\n",
    "# Display cluster summary\n",
    "print(cluster_summary)\n",
    "\n",
    "# Visualize cluster characteristics using a heatmap\n",
    "plt.figure(figsize=(10, 6))\n",
    "sns.heatmap(cluster_summary.drop('Cluster', axis=1).set_index(cluster_summary['Cluster']).T, \n",
    "            annot=True, cmap='coolwarm')\n",
    "plt.title('Cluster-wise Average RFM Metrics')\n",
    "plt.show()"
   ]
  },
  {
   "cell_type": "markdown",
   "id": "cfa1b277-37e3-4041-b81a-817e9ae42678",
   "metadata": {},
   "source": [
    "# Enhancement 1: Apply Weighted RFM Scoring"
   ]
  },
  {
   "cell_type": "code",
   "execution_count": null,
   "id": "ae9af9e1-08e2-44a2-8b53-c219f35e1fef",
   "metadata": {},
   "outputs": [],
   "source": [
    "# Assigning weights to Recency, Frequency, and Monetary metrics\n",
    "recency_weight = 0.5\n",
    "frequency_weight = 0.3\n",
    "monetary_weight = 0.2\n",
    "\n",
    "# Normalizing RFM metrics using Min-Max scaling for weighted scoring\n",
    "rfm_min = rfm[['Recency', 'Frequency', 'Monetary']].min()\n",
    "rfm_max = rfm[['Recency', 'Frequency', 'Monetary']].max()\n",
    "rfm_normalized_weighted = (rfm[['Recency', 'Frequency', 'Monetary']] - rfm_min) / (rfm_max - rfm_min)\n",
    "\n",
    "# Calculating the weighted RFM score\n",
    "rfm['Weighted_Score'] = (rfm_normalized_weighted['Recency'] * recency_weight +\n",
    "                         rfm_normalized_weighted['Frequency'] * frequency_weight +\n",
    "                         rfm_normalized_weighted['Monetary'] * monetary_weight)\n"
   ]
  },
  {
   "cell_type": "markdown",
   "id": "727708a5-adc4-4061-a4a1-ee97264a1f7b",
   "metadata": {},
   "source": [
    "# Step 7: Apply K-Means Clustering on Weighted Scores"
   ]
  },
  {
   "cell_type": "code",
   "execution_count": null,
   "id": "85bb7eaa-91bc-42e8-bd90-9477e3f46539",
   "metadata": {},
   "outputs": [],
   "source": [
    "# Applying K-Means clustering on the weighted scores to create new clusters\n",
    "weighted_scores = rfm[['Weighted_Score']].values\n",
    "kmeans_weighted = KMeans(n_clusters=3, random_state=42)\n",
    "rfm['Weighted_Cluster'] = kmeans_weighted.fit_predict(weighted_scores)"
   ]
  },
  {
   "cell_type": "markdown",
   "id": "70ba2914-253c-40c0-85e6-0a4148aea85b",
   "metadata": {},
   "source": [
    "# Analyze and visualize the new clusters based on weighted scores"
   ]
  },
  {
   "cell_type": "code",
   "execution_count": null,
   "id": "7afd3aae-f2bf-4638-a717-5e0f43f410d2",
   "metadata": {},
   "outputs": [],
   "source": [
    "cluster_summary_weighted = rfm.groupby('Weighted_Cluster').agg({\n",
    "    'Recency': 'mean',\n",
    "    'Frequency': 'mean',\n",
    "    'Monetary': 'mean',\n",
    "    'CustomerID': 'count'\n",
    "}).rename(columns={'CustomerID': 'Customer Count'}).reset_index()\n",
    "\n",
    "# Display cluster summary for weighted clusters\n",
    "print(cluster_summary_weighted)\n",
    "\n",
    "# Visualize weighted cluster characteristics using a heatmap\n",
    "plt.figure(figsize=(10, 6))\n",
    "sns.heatmap(cluster_summary_weighted.drop('Weighted_Cluster', axis=1).set_index(cluster_summary_weighted['Weighted_Cluster']).T, \n",
    "            annot=True, cmap='coolwarm')\n",
    "plt.title('Cluster-wise Average RFM Metrics (Weighted Clustering)')\n",
    "plt.show()"
   ]
  }
 ],
 "metadata": {
  "kernelspec": {
   "display_name": "Python 3 (ipykernel)",
   "language": "python",
   "name": "python3"
  },
  "language_info": {
   "codemirror_mode": {
    "name": "ipython",
    "version": 3
   },
   "file_extension": ".py",
   "mimetype": "text/x-python",
   "name": "python",
   "nbconvert_exporter": "python",
   "pygments_lexer": "ipython3",
   "version": "3.12.4"
  }
 },
 "nbformat": 4,
 "nbformat_minor": 5
}
